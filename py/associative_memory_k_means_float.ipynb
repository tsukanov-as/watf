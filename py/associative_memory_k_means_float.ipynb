{
 "cells": [
  {
   "cell_type": "code",
   "execution_count": 1,
   "metadata": {},
   "outputs": [],
   "source": [
    "import numpy as np\n",
    "\n",
    "from sklearn.datasets import fetch_openml\n",
    "mnist = fetch_openml('mnist_784', parser='auto')\n",
    "\n",
    "from sklearn.model_selection import train_test_split\n",
    "x_train, x_test, y_train, y_test = train_test_split(mnist.data, mnist.target, test_size=10000, random_state=42, train_size=60000)\n",
    "x_train = x_train.values.astype(int)\n",
    "y_train = y_train.values.astype(int)\n",
    "x_test = x_test.values.astype(int)\n",
    "y_test = y_test.values.astype(int)"
   ]
  },
  {
   "cell_type": "code",
   "execution_count": 2,
   "metadata": {},
   "outputs": [],
   "source": [
    "from sklearn.cluster import KMeans\n",
    "\n",
    "shard_count = 50\n",
    "\n",
    "kmeans = KMeans(shard_count, init=\"k-means++\", n_init=1)\n",
    "kmeans.fit(x_train)\n",
    "\n",
    "shards_train = kmeans.predict(x_train)\n",
    "shards_test = kmeans.predict(x_test)"
   ]
  },
  {
   "cell_type": "code",
   "execution_count": 3,
   "metadata": {},
   "outputs": [],
   "source": [
    "input_count = 28*28\n",
    "output_count = 10\n",
    "\n",
    "from numba import njit, prange\n",
    "\n",
    "@njit(fastmath=True)\n",
    "def fit(shard, S, T):\n",
    "    for epoch in range(10000):\n",
    "        total_misses = 0\n",
    "        for i in range(len(shards_train)):\n",
    "            if shards_train[i] == shard:\n",
    "                # diff classifier\n",
    "                X, y = x_train[i], y_train[i]\n",
    "                M = S / T\n",
    "                p = ((M - X)**2).sum(axis=1).argmin()\n",
    "                if p != y:\n",
    "                    S[y] += X\n",
    "                    T[y] += 1\n",
    "                    S[p] = (S[p] - X / 2).clip(0)\n",
    "                    total_misses += 1\n",
    "        if total_misses == 0:\n",
    "                break\n",
    "\n",
    "S = np.zeros((shard_count, output_count, input_count))\n",
    "T = np.ones((shard_count, output_count, 1))\n",
    "\n",
    "@njit(fastmath=True, parallel=True)\n",
    "def fit_all(S, T):\n",
    "    for shard in prange(shard_count):\n",
    "        fit(shard, S[shard], T[shard])\n",
    "\n",
    "fit_all(S, T)"
   ]
  },
  {
   "cell_type": "code",
   "execution_count": 4,
   "metadata": {},
   "outputs": [
    {
     "name": "stdout",
     "output_type": "stream",
     "text": [
      "accuracy train: 1.000000; accuracy test: 0.947900\n"
     ]
    }
   ],
   "source": [
    "M = S / T\n",
    "\n",
    "total_test = 0\n",
    "for i in range(len(x_test)):\n",
    "    X, y = x_test[i], y_test[i]\n",
    "    if y == ((M[shards_test[i]] - X)**2).sum(axis=1).argmin():\n",
    "        total_test += 1\n",
    "\n",
    "total_train = 0\n",
    "for i in range(len(x_train)):\n",
    "    X, y = x_train[i], y_train[i]\n",
    "    if y == ((M[shards_train[i]] - X)**2).sum(axis=1).argmin():\n",
    "        total_train += 1\n",
    "\n",
    "print(\"accuracy train: %f; accuracy test: %f\" % (total_train/len(x_train), total_test/len(x_test)))"
   ]
  },
  {
   "cell_type": "code",
   "execution_count": 5,
   "metadata": {},
   "outputs": [
    {
     "name": "stdout",
     "output_type": "stream",
     "text": [
      "accuracy train: 1.000000; accuracy test: 0.947900\n"
     ]
    }
   ],
   "source": [
    "from sklearn.neighbors import KDTree\n",
    "\n",
    "tree = KDTree(kmeans.cluster_centers_, leaf_size=2)\n",
    "\n",
    "total_train = 0\n",
    "for i in range(len(x_train)):\n",
    "    X = x_train[i].reshape(1, -1)\n",
    "    y = y_train[i]\n",
    "    shard = tree.query(X, return_distance=False)[0][0]\n",
    "    p = ((M[shard] - X)**2).sum(axis=1).argmin()\n",
    "    if p == y:\n",
    "        total_train += 1\n",
    "\n",
    "total_test = 0\n",
    "for i in range(len(x_test)):\n",
    "    X = x_test[i].reshape(1, -1)\n",
    "    y = y_test[i]\n",
    "    shard = tree.query(X, return_distance=False)[0][0]\n",
    "    p = ((M[shard] - X)**2).sum(axis=1).argmin()\n",
    "    if p == y:\n",
    "        total_test += 1\n",
    "\n",
    "print(\"accuracy train: %f; accuracy test: %f\" % (total_train/len(x_train), total_test/len(x_test)))\n"
   ]
  },
  {
   "cell_type": "code",
   "execution_count": 6,
   "metadata": {},
   "outputs": [
    {
     "name": "stdout",
     "output_type": "stream",
     "text": [
      "accuracy train: 1.000000; accuracy test: 0.947900\n"
     ]
    }
   ],
   "source": [
    "from sklearn.neighbors import BallTree\n",
    "\n",
    "tree = BallTree(kmeans.cluster_centers_, leaf_size=2)\n",
    "\n",
    "total_train = 0\n",
    "for i in range(len(x_train)):\n",
    "    X = x_train[i].reshape(1, -1)\n",
    "    y = y_train[i]\n",
    "    shard = tree.query(X, return_distance=False)[0][0]\n",
    "    p = ((M[shard] - X)**2).sum(axis=1).argmin()\n",
    "    if p == y:\n",
    "        total_train += 1\n",
    "\n",
    "total_test = 0\n",
    "for i in range(len(x_test)):\n",
    "    X = x_test[i].reshape(1, -1)\n",
    "    y = y_test[i]\n",
    "    shard = tree.query(X, return_distance=False)[0][0]\n",
    "    p = ((M[shard] - X)**2).sum(axis=1).argmin()\n",
    "    if p == y:\n",
    "        total_test += 1\n",
    "\n",
    "print(\"accuracy train: %f; accuracy test: %f\" % (total_train/len(x_train), total_test/len(x_test)))"
   ]
  },
  {
   "cell_type": "code",
   "execution_count": 7,
   "metadata": {},
   "outputs": [
    {
     "name": "stdout",
     "output_type": "stream",
     "text": [
      "accuracy train: 0.999867; accuracy test: 0.948100\n"
     ]
    }
   ],
   "source": [
    "noise = np.random.choice([-1, 1], size=x_train.shape, p=[1./2, 1./2])\n",
    "x_train += noise\n",
    "noise = np.random.choice([-1, 1], size=x_test.shape, p=[1./2, 1./2])\n",
    "x_test += noise\n",
    "\n",
    "total_train = 0\n",
    "for i in range(len(x_train)):\n",
    "    X = x_train[i].reshape(1, -1)\n",
    "    y = y_train[i]\n",
    "    shard = tree.query(X, return_distance=False)[0][0]\n",
    "    p = ((M[shard] - X)**2).sum(axis=1).argmin()\n",
    "    if p == y:\n",
    "        total_train += 1\n",
    "\n",
    "total_test = 0\n",
    "for i in range(len(x_test)):\n",
    "    X = x_test[i].reshape(1, -1)\n",
    "    y = y_test[i]\n",
    "    shard = tree.query(X, return_distance=False)[0][0]\n",
    "    p = ((M[shard] - X)**2).sum(axis=1).argmin()\n",
    "    if p == y:\n",
    "        total_test += 1\n",
    "\n",
    "print(\"accuracy train: %f; accuracy test: %f\" % (total_train/len(x_train), total_test/len(x_test)))"
   ]
  },
  {
   "cell_type": "code",
   "execution_count": 8,
   "metadata": {},
   "outputs": [
    {
     "name": "stdout",
     "output_type": "stream",
     "text": [
      "accuracy train: 0.999867; accuracy test: 0.948100\n"
     ]
    }
   ],
   "source": [
    "subtree = []\n",
    "for shard in range(shard_count):\n",
    "    subtree.append(BallTree(M[shard], leaf_size=2))\n",
    "\n",
    "total_train = 0\n",
    "for i in range(len(x_train)):\n",
    "    X = x_train[i].reshape(1, -1)\n",
    "    y = y_train[i]\n",
    "    shard = tree.query(X, return_distance=False)[0][0]\n",
    "    p = subtree[shard].query(X, return_distance=False)[0][0]\n",
    "    if p == y:\n",
    "        total_train += 1\n",
    "\n",
    "total_test = 0\n",
    "for i in range(len(x_test)):\n",
    "    X = x_test[i].reshape(1, -1)\n",
    "    y = y_test[i]\n",
    "    shard = tree.query(X, return_distance=False)[0][0]\n",
    "    p = subtree[shard].query(X, return_distance=False)[0][0]\n",
    "    if p == y:\n",
    "        total_test += 1\n",
    "\n",
    "print(\"accuracy train: %f; accuracy test: %f\" % (total_train/len(x_train), total_test/len(x_test)))"
   ]
  }
 ],
 "metadata": {
  "kernelspec": {
   "display_name": "Python 3",
   "language": "python",
   "name": "python3"
  },
  "language_info": {
   "codemirror_mode": {
    "name": "ipython",
    "version": 3
   },
   "file_extension": ".py",
   "mimetype": "text/x-python",
   "name": "python",
   "nbconvert_exporter": "python",
   "pygments_lexer": "ipython3",
   "version": "3.11.4"
  }
 },
 "nbformat": 4,
 "nbformat_minor": 2
}
