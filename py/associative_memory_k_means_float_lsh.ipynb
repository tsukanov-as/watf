{
 "cells": [
  {
   "cell_type": "markdown",
   "metadata": {},
   "source": [
    "# Пример реализации ассоциативной памяти.\n",
    "\n",
    "Архитектура модели:\n",
    "1. Шардированный линейный классификатор.\n",
    "2. Хэширование для быстрого поиска шарда.\n",
    "\n",
    "Шардирование нужно для увеличения емкости памяти модели. Тренировочная выборка разбивается на N частей и на каждой части обучается отдельный экземпляр линейного классификатора. При достаточном количестве шардов можно получить сходимость на 100% (на тренировочной выборке). В данном примере для шардирования используется LSH. Такой подход имеет следующие плюсы:\n",
    "* устойчивость к шумам на тренировочной выборке\n",
    "* быстрое вычисление шарда"
   ]
  },
  {
   "cell_type": "code",
   "execution_count": 1,
   "metadata": {},
   "outputs": [],
   "source": [
    "import numpy as np\n",
    "\n",
    "from sklearn.datasets import fetch_openml\n",
    "mnist = fetch_openml('mnist_784', parser='auto')\n",
    "\n",
    "from sklearn.model_selection import train_test_split\n",
    "x_train, x_test, y_train, y_test = train_test_split(mnist.data, mnist.target, test_size=10000, random_state=42, train_size=60000)\n",
    "x_train = x_train.values.astype(int)\n",
    "y_train = y_train.values.astype(int)\n",
    "x_test = x_test.values.astype(int)\n",
    "y_test = y_test.values.astype(int)"
   ]
  },
  {
   "cell_type": "code",
   "execution_count": 2,
   "metadata": {},
   "outputs": [
    {
     "name": "stdout",
     "output_type": "stream",
     "text": [
      "[ 0  1  2  3  4  5  6  7  8  9 10 11 12 13 14 15 16 17 18 19 20 21 22 23\n",
      " 24 25 26 27 28 29 30 31 32 33 34 35 36 37 38 39 40 41 42 43 44 45 46 47\n",
      " 48 49] [ 331  241 1979  645 2296 1052 1179  735  503  752  286  320 2222 3214\n",
      " 1188 1350  331  438  158   78 2408 1009  911  464  962  577  387  232\n",
      " 3379 3052 1059 1201  615  781  326  395 1840 1103  632  431 1111  609\n",
      "  767  537 2569 1333 4200 3232 2681 1899]\n"
     ]
    }
   ],
   "source": [
    "input_count = 28*28\n",
    "bits = 8\n",
    "shard_count = 50\n",
    "\n",
    "kernels = np.random.choice([-1, 1], size=(bits, input_count), p=[1./2, 1./2])\n",
    "\n",
    "bits_train = np.heaviside(np.einsum('ik,jk->ij', x_train, kernels), 0).astype(int)\n",
    "bits_test = np.heaviside(np.einsum('ik,jk->ij', x_test, kernels), 0).astype(int)\n",
    "\n",
    "shards_train = np.packbits(bits_train) % shard_count\n",
    "shards_test = np.packbits(bits_test) % shard_count\n",
    "\n",
    "unique, counts = np.unique(shards_train, return_counts=True)\n",
    "print(unique, counts)"
   ]
  },
  {
   "cell_type": "code",
   "execution_count": 3,
   "metadata": {},
   "outputs": [],
   "source": [
    "input_count = 28*28\n",
    "output_count = 10\n",
    "\n",
    "from numba import njit, prange\n",
    "\n",
    "@njit(fastmath=True)\n",
    "def fit(shard, S, T):\n",
    "    for epoch in range(10000):\n",
    "        total_misses = 0\n",
    "        for i in range(len(shards_train)):\n",
    "            if shards_train[i] == shard:\n",
    "                # diff classifier\n",
    "                X, y = x_train[i], y_train[i]\n",
    "                M = S / T\n",
    "                p = ((M - X)**2).sum(axis=1).argmin()\n",
    "                if p != y:\n",
    "                    S[y] += X\n",
    "                    T[y] += 1\n",
    "                    S[p] = (S[p] - X / 2).clip(0)\n",
    "                    total_misses += 1\n",
    "        if total_misses == 0:\n",
    "                break\n",
    "\n",
    "S = np.zeros((shard_count, output_count, input_count))\n",
    "T = np.ones((shard_count, output_count, 1))\n",
    "\n",
    "@njit(fastmath=True, parallel=True)\n",
    "def fit_all(S, T):\n",
    "    for shard in prange(shard_count):\n",
    "        fit(shard, S[shard], T[shard])\n",
    "\n",
    "fit_all(S, T)"
   ]
  },
  {
   "cell_type": "code",
   "execution_count": 4,
   "metadata": {},
   "outputs": [
    {
     "name": "stdout",
     "output_type": "stream",
     "text": [
      "accuracy train: 1.000000; accuracy test: 0.900300\n"
     ]
    }
   ],
   "source": [
    "M = S / T\n",
    "\n",
    "total_test = 0\n",
    "for i in range(len(x_test)):\n",
    "    X, y = x_test[i], y_test[i]\n",
    "    if y == ((M[shards_test[i]] - X)**2).sum(axis=1).argmin():\n",
    "        total_test += 1\n",
    "\n",
    "total_train = 0\n",
    "for i in range(len(x_train)):\n",
    "    X, y = x_train[i], y_train[i]\n",
    "    if y == ((M[shards_train[i]] - X)**2).sum(axis=1).argmin():\n",
    "        total_train += 1\n",
    "\n",
    "print(\"accuracy train: %f; accuracy test: %f\" % (total_train/len(x_train), total_test/len(x_test)))"
   ]
  },
  {
   "cell_type": "code",
   "execution_count": 5,
   "metadata": {},
   "outputs": [
    {
     "name": "stdout",
     "output_type": "stream",
     "text": [
      "accuracy train: 0.999800; accuracy test: 0.900100\n"
     ]
    }
   ],
   "source": [
    "noise = np.random.choice([-1, 1], size=x_train.shape, p=[1./2, 1./2])\n",
    "x_train += noise\n",
    "noise = np.random.choice([-1, 1], size=x_test.shape, p=[1./2, 1./2])\n",
    "x_test += noise\n",
    "\n",
    "total_test = 0\n",
    "for i in range(len(x_test)):\n",
    "    X, y = x_test[i], y_test[i]\n",
    "    if y == ((M[shards_test[i]] - X)**2).sum(axis=1).argmin():\n",
    "        total_test += 1\n",
    "\n",
    "total_train = 0\n",
    "for i in range(len(x_train)):\n",
    "    X, y = x_train[i], y_train[i]\n",
    "    if y == ((M[shards_train[i]] - X)**2).sum(axis=1).argmin():\n",
    "        total_train += 1\n",
    "\n",
    "print(\"accuracy train: %f; accuracy test: %f\" % (total_train/len(x_train), total_test/len(x_test)))"
   ]
  }
 ],
 "metadata": {
  "kernelspec": {
   "display_name": "Python 3",
   "language": "python",
   "name": "python3"
  },
  "language_info": {
   "codemirror_mode": {
    "name": "ipython",
    "version": 3
   },
   "file_extension": ".py",
   "mimetype": "text/x-python",
   "name": "python",
   "nbconvert_exporter": "python",
   "pygments_lexer": "ipython3",
   "version": "3.11.4"
  }
 },
 "nbformat": 4,
 "nbformat_minor": 2
}
